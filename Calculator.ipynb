{
  "nbformat": 4,
  "nbformat_minor": 0,
  "metadata": {
    "colab": {
      "provenance": []
    },
    "kernelspec": {
      "name": "python3",
      "display_name": "Python 3"
    },
    "language_info": {
      "name": "python"
    }
  },
  "cells": [
    {
      "cell_type": "code",
      "execution_count": null,
      "metadata": {
        "id": "paswNLLOZsRz"
      },
      "outputs": [],
      "source": [
        "class Calculator:\n",
        "    def __init__(self, num1, num2):\n",
        "        # Initialize the attributes num1 and num2\n",
        "        self.num1 = num1\n",
        "        self.num2 = num2\n",
        "\n",
        "    def add(self):\n",
        "        # Return the sum of num1 and num2\n",
        "        return self.num1+self.num2\n",
        "        pass\n",
        "\n",
        "    def subtract(self):\n",
        "        # Return the result of subtracting num2 from num1\n",
        "        return self.num1-self.num2\n",
        "        pass\n",
        "\n",
        "    def multiply(self, factor):\n",
        "        # Return the product of num1 and factor\n",
        "        return self.num1*factor\n",
        "        pass\n",
        "\n",
        "    def divide(self, divisor):\n",
        "        # Return the result of dividing num1 by divisor\n",
        "        # If divisor is zero, print an error message and return None\n",
        "        try:\n",
        "            return self.num1//divisor\n",
        "        except:\n",
        "            print(\"Error: Cannot divide by zero\")\n",
        "            return None\n",
        "        pass\n"
      ]
    }
  ]
}